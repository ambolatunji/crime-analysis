{
 "cells": [
  {
   "cell_type": "markdown",
   "metadata": {
    "_cell_guid": "79c7e3d0-c299-4dcb-8224-4455121ee9b0",
    "_uuid": "d629ff2d2480ee46fbb7e2d37f6b5fab8052498a",
    "collapsed": true,
    "papermill": {
     "duration": 0.03765,
     "end_time": "2020-12-10T07:41:36.959728",
     "exception": false,
     "start_time": "2020-12-10T07:41:36.922078",
     "status": "completed"
    },
    "tags": []
   },
   "source": [
    "## Content\n",
    "This data set contains statistics, in arrests per state\n",
    "for crime againts person, crime against property, crime against law efforcement in each of the 36 Nigeria states in 2017.\n",
    "Also given is the percent of the population living in urban areas.This is a systematic approach for identifying and analyzing patterns and trends in crime using NigeriaArrest dataset. "
   ]
  },
  {
   "cell_type": "markdown",
   "metadata": {
    "papermill": {
     "duration": 0.034086,
     "end_time": "2020-12-10T07:41:37.028699",
     "exception": false,
     "start_time": "2020-12-10T07:41:36.994613",
     "status": "completed"
    },
    "tags": []
   },
   "source": [
    "## What is Hierarchical Clustering?\n",
    "\n",
    "Hierarchical clustering is a type of unsupervised machine learning algorithm used to cluster unlabeled data points. Like K-means clustering, hierarchical clustering also groups together the data points with similar characteristics.One of the major considerations in using the K-means algorithm is deciding the value of K beforehand. The hierarchical clustering algorithm does not have this restriction.The output of the hierarchical clustering algorithm is quite different from the K-mean algorithm as well. It results in an inverted tree-shaped structure, called the **dendrogram**."
   ]
  },
  {
   "cell_type": "markdown",
   "metadata": {
    "papermill": {
     "duration": 0.034548,
     "end_time": "2020-12-10T07:41:37.097418",
     "exception": false,
     "start_time": "2020-12-10T07:41:37.062870",
     "status": "completed"
    },
    "tags": []
   },
   "source": [
    "## Types Of Hierarchical Clustering:\n",
    "\n",
    "There are two types of hierarchical clustering: \n",
    "\n",
    "* **Agglomerative**: The data points are clustered using a bottom-up approach starting with individual data points.\n",
    "* **Divisive**: The top-down approach is followed where all the data points are treated as one big cluster and the clustering process involves dividing the one big cluster into several small clusters."
   ]
  },
  {
   "cell_type": "markdown",
   "metadata": {
    "papermill": {
     "duration": 0.033924,
     "end_time": "2020-12-10T07:41:37.165791",
     "exception": false,
     "start_time": "2020-12-10T07:41:37.131867",
     "status": "completed"
    },
    "tags": []
   },
   "source": [
    "## Steps to Perform Hierarchical Clustering:\n",
    "\n",
    "Following are the steps involved in **agglomerative clustering**:\n",
    "\n",
    "* At the start, treat each data point as one cluster. Therefore, the number of clusters at the start will be K, while K is an integer representing the number of data points.\n",
    "* Form a cluster by joining the two closest data points resulting in K-1 clusters.\n",
    "* Form more clusters by joining the two closest clusters resulting in K-2 clusters.\n",
    "* Repeat the above three steps until one big cluster is formed.\n",
    "* Once single cluster is formed, dendrograms are used to divide into multiple clusters depending upon the problem. We will study the concept of dendrogram in detail in an upcoming section."
   ]
  },
  {
   "cell_type": "markdown",
   "metadata": {
    "papermill": {
     "duration": 0.034835,
     "end_time": "2020-12-10T07:41:37.235305",
     "exception": false,
     "start_time": "2020-12-10T07:41:37.200470",
     "status": "completed"
    },
    "tags": []
   },
   "source": [
    "## Import the Desired Libraries:"
   ]
  },
  {
   "cell_type": "code",
   "execution_count": 1,
   "metadata": {
    "execution": {
     "iopub.execute_input": "2020-12-10T07:41:37.313051Z",
     "iopub.status.busy": "2020-12-10T07:41:37.312402Z",
     "iopub.status.idle": "2020-12-10T07:41:38.283801Z",
     "shell.execute_reply": "2020-12-10T07:41:38.283087Z"
    },
    "papermill": {
     "duration": 1.013691,
     "end_time": "2020-12-10T07:41:38.283915",
     "exception": false,
     "start_time": "2020-12-10T07:41:37.270224",
     "status": "completed"
    },
    "tags": []
   },
   "outputs": [],
   "source": [
    "import warnings\n",
    "warnings.filterwarnings('always')\n",
    "warnings.filterwarnings('ignore')\n",
    "import matplotlib.pyplot as plt\n",
    "import pandas as pd\n",
    "import numpy as np\n",
    "import seaborn as sns\n",
    "\n",
    "sns.set()\n",
    "%matplotlib inline"
   ]
  },
  {
   "cell_type": "code",
   "execution_count": 2,
   "metadata": {
    "execution": {
     "iopub.execute_input": "2020-12-10T07:41:38.360175Z",
     "iopub.status.busy": "2020-12-10T07:41:38.359508Z",
     "iopub.status.idle": "2020-12-10T07:41:38.674302Z",
     "shell.execute_reply": "2020-12-10T07:41:38.674996Z"
    },
    "papermill": {
     "duration": 0.356279,
     "end_time": "2020-12-10T07:41:38.675164",
     "exception": false,
     "start_time": "2020-12-10T07:41:38.318885",
     "status": "completed"
    },
    "tags": []
   },
   "outputs": [],
   "source": [
    "from sklearn.preprocessing import StandardScaler\n",
    "scaler= StandardScaler()\n",
    "import scipy.cluster.hierarchy as sch\n",
    "from sklearn.cluster import AgglomerativeClustering"
   ]
  },
  {
   "cell_type": "markdown",
   "metadata": {
    "papermill": {
     "duration": 0.052184,
     "end_time": "2020-12-10T07:41:38.781231",
     "exception": false,
     "start_time": "2020-12-10T07:41:38.729047",
     "status": "completed"
    },
    "tags": []
   },
   "source": [
    "## Reading and Understanding the Data"
   ]
  },
  {
   "cell_type": "code",
   "execution_count": 3,
   "metadata": {
    "execution": {
     "iopub.execute_input": "2020-12-10T07:41:38.898357Z",
     "iopub.status.busy": "2020-12-10T07:41:38.897548Z",
     "iopub.status.idle": "2020-12-10T07:41:38.910869Z",
     "shell.execute_reply": "2020-12-10T07:41:38.910023Z"
    },
    "papermill": {
     "duration": 0.077655,
     "end_time": "2020-12-10T07:41:38.910999",
     "exception": false,
     "start_time": "2020-12-10T07:41:38.833344",
     "status": "completed"
    },
    "tags": []
   },
   "outputs": [],
   "source": [
    "df_crime = pd.read_csv(\"../input/newcrimedata/crime data nigeria 2017.csv\")"
   ]
  },
  {
   "cell_type": "code",
   "execution_count": 4,
   "metadata": {
    "execution": {
     "iopub.execute_input": "2020-12-10T07:41:39.030091Z",
     "iopub.status.busy": "2020-12-10T07:41:39.029197Z",
     "iopub.status.idle": "2020-12-10T07:41:39.040896Z",
     "shell.execute_reply": "2020-12-10T07:41:39.040211Z"
    },
    "papermill": {
     "duration": 0.077796,
     "end_time": "2020-12-10T07:41:39.041017",
     "exception": false,
     "start_time": "2020-12-10T07:41:38.963221",
     "status": "completed"
    },
    "tags": []
   },
   "outputs": [
    {
     "data": {
      "text/html": [
       "<div>\n",
       "<style scoped>\n",
       "    .dataframe tbody tr th:only-of-type {\n",
       "        vertical-align: middle;\n",
       "    }\n",
       "\n",
       "    .dataframe tbody tr th {\n",
       "        vertical-align: top;\n",
       "    }\n",
       "\n",
       "    .dataframe thead th {\n",
       "        text-align: right;\n",
       "    }\n",
       "</style>\n",
       "<table border=\"1\" class=\"dataframe\">\n",
       "  <thead>\n",
       "    <tr style=\"text-align: right;\">\n",
       "      <th></th>\n",
       "      <th>STATE</th>\n",
       "      <th>MURDER</th>\n",
       "      <th>MAN SLAUGHTER</th>\n",
       "      <th>ATTEMPTED SUICIDE</th>\n",
       "      <th>ASSAULT</th>\n",
       "      <th>CHILD STEALING</th>\n",
       "      <th>RAPE &amp; INDICENT ASSAULT</th>\n",
       "      <th>KIDNAPPING</th>\n",
       "      <th>OFFENCES AGAINST PERSONS</th>\n",
       "    </tr>\n",
       "  </thead>\n",
       "  <tbody>\n",
       "    <tr>\n",
       "      <th>0</th>\n",
       "      <td>ABUJA</td>\n",
       "      <td>91</td>\n",
       "      <td>3</td>\n",
       "      <td>15.076923</td>\n",
       "      <td>217.000000</td>\n",
       "      <td>3.000000</td>\n",
       "      <td>132.000000</td>\n",
       "      <td>49.000000</td>\n",
       "      <td>1183</td>\n",
       "    </tr>\n",
       "    <tr>\n",
       "      <th>1</th>\n",
       "      <td>AKWA IBOM</td>\n",
       "      <td>81</td>\n",
       "      <td>5</td>\n",
       "      <td>15.076923</td>\n",
       "      <td>341.000000</td>\n",
       "      <td>52.000000</td>\n",
       "      <td>83.000000</td>\n",
       "      <td>11.000000</td>\n",
       "      <td>702</td>\n",
       "    </tr>\n",
       "    <tr>\n",
       "      <th>2</th>\n",
       "      <td>ANAMBRA</td>\n",
       "      <td>41</td>\n",
       "      <td>8</td>\n",
       "      <td>15.076923</td>\n",
       "      <td>706.617647</td>\n",
       "      <td>18.157895</td>\n",
       "      <td>61.594595</td>\n",
       "      <td>30.648649</td>\n",
       "      <td>127</td>\n",
       "    </tr>\n",
       "    <tr>\n",
       "      <th>3</th>\n",
       "      <td>ABIA</td>\n",
       "      <td>97</td>\n",
       "      <td>6</td>\n",
       "      <td>15.076923</td>\n",
       "      <td>8945.000000</td>\n",
       "      <td>68.000000</td>\n",
       "      <td>98.000000</td>\n",
       "      <td>104.000000</td>\n",
       "      <td>9816</td>\n",
       "    </tr>\n",
       "    <tr>\n",
       "      <th>4</th>\n",
       "      <td>ADAMAWA</td>\n",
       "      <td>114</td>\n",
       "      <td>8</td>\n",
       "      <td>15.076923</td>\n",
       "      <td>68.000000</td>\n",
       "      <td>18.157895</td>\n",
       "      <td>24.000000</td>\n",
       "      <td>9.000000</td>\n",
       "      <td>811</td>\n",
       "    </tr>\n",
       "  </tbody>\n",
       "</table>\n",
       "</div>"
      ],
      "text/plain": [
       "       STATE  MURDER  MAN SLAUGHTER  ATTEMPTED SUICIDE      ASSAULT  \\\n",
       "0      ABUJA      91              3          15.076923   217.000000   \n",
       "1  AKWA IBOM      81              5          15.076923   341.000000   \n",
       "2    ANAMBRA      41              8          15.076923   706.617647   \n",
       "3       ABIA      97              6          15.076923  8945.000000   \n",
       "4    ADAMAWA     114              8          15.076923    68.000000   \n",
       "\n",
       "   CHILD STEALING  RAPE & INDICENT ASSAULT  KIDNAPPING  \\\n",
       "0        3.000000               132.000000   49.000000   \n",
       "1       52.000000                83.000000   11.000000   \n",
       "2       18.157895                61.594595   30.648649   \n",
       "3       68.000000                98.000000  104.000000   \n",
       "4       18.157895                24.000000    9.000000   \n",
       "\n",
       "   OFFENCES AGAINST PERSONS  \n",
       "0                      1183  \n",
       "1                       702  \n",
       "2                       127  \n",
       "3                      9816  \n",
       "4                       811  "
      ]
     },
     "execution_count": 4,
     "metadata": {},
     "output_type": "execute_result"
    }
   ],
   "source": [
    "#peeking at the dataset\n",
    "\n",
    "df_crime.head(5)"
   ]
  },
  {
   "cell_type": "markdown",
   "metadata": {
    "papermill": {
     "duration": 0.035869,
     "end_time": "2020-12-10T07:41:39.113399",
     "exception": false,
     "start_time": "2020-12-10T07:41:39.077530",
     "status": "completed"
    },
    "tags": []
   },
   "source": [
    "### Our dataset consists of crime rates for Murder, Assault, Man Slaughter, Rape, offence against a person and child stealing etc "
   ]
  },
  {
   "cell_type": "code",
   "execution_count": 5,
   "metadata": {
    "execution": {
     "iopub.execute_input": "2020-12-10T07:41:39.191961Z",
     "iopub.status.busy": "2020-12-10T07:41:39.191091Z",
     "iopub.status.idle": "2020-12-10T07:41:39.196324Z",
     "shell.execute_reply": "2020-12-10T07:41:39.195800Z"
    },
    "papermill": {
     "duration": 0.046521,
     "end_time": "2020-12-10T07:41:39.196429",
     "exception": false,
     "start_time": "2020-12-10T07:41:39.149908",
     "status": "completed"
    },
    "tags": []
   },
   "outputs": [
    {
     "data": {
      "text/plain": [
       "(38, 9)"
      ]
     },
     "execution_count": 5,
     "metadata": {},
     "output_type": "execute_result"
    }
   ],
   "source": [
    "# Let's see how many rows and columns we got!\n",
    "\n",
    "df_crime.shape"
   ]
  },
  {
   "cell_type": "code",
   "execution_count": 6,
   "metadata": {
    "execution": {
     "iopub.execute_input": "2020-12-10T07:41:39.276605Z",
     "iopub.status.busy": "2020-12-10T07:41:39.275883Z",
     "iopub.status.idle": "2020-12-10T07:41:39.279552Z",
     "shell.execute_reply": "2020-12-10T07:41:39.280235Z"
    },
    "papermill": {
     "duration": 0.048031,
     "end_time": "2020-12-10T07:41:39.280401",
     "exception": false,
     "start_time": "2020-12-10T07:41:39.232370",
     "status": "completed"
    },
    "tags": []
   },
   "outputs": [
    {
     "data": {
      "text/plain": [
       "Index(['STATE', 'MURDER', 'MAN SLAUGHTER', 'ATTEMPTED SUICIDE', 'ASSAULT',\n",
       "       'CHILD STEALING', 'RAPE & INDICENT ASSAULT', 'KIDNAPPING',\n",
       "       'OFFENCES AGAINST PERSONS'],\n",
       "      dtype='object')"
      ]
     },
     "execution_count": 6,
     "metadata": {},
     "output_type": "execute_result"
    }
   ],
   "source": [
    "df_crime.columns"
   ]
  },
  {
   "cell_type": "code",
   "execution_count": 7,
   "metadata": {
    "execution": {
     "iopub.execute_input": "2020-12-10T07:41:39.405997Z",
     "iopub.status.busy": "2020-12-10T07:41:39.397233Z",
     "iopub.status.idle": "2020-12-10T07:41:39.409863Z",
     "shell.execute_reply": "2020-12-10T07:41:39.410719Z"
    },
    "papermill": {
     "duration": 0.074975,
     "end_time": "2020-12-10T07:41:39.410939",
     "exception": false,
     "start_time": "2020-12-10T07:41:39.335964",
     "status": "completed"
    },
    "tags": []
   },
   "outputs": [
    {
     "name": "stdout",
     "output_type": "stream",
     "text": [
      "<class 'pandas.core.frame.DataFrame'>\n",
      "RangeIndex: 38 entries, 0 to 37\n",
      "Data columns (total 9 columns):\n",
      " #   Column                    Non-Null Count  Dtype  \n",
      "---  ------                    --------------  -----  \n",
      " 0   STATE                     38 non-null     object \n",
      " 1   MURDER                    38 non-null     int64  \n",
      " 2   MAN SLAUGHTER             38 non-null     int64  \n",
      " 3   ATTEMPTED SUICIDE         38 non-null     float64\n",
      " 4   ASSAULT                   38 non-null     float64\n",
      " 5   CHILD STEALING            38 non-null     float64\n",
      " 6   RAPE & INDICENT ASSAULT   38 non-null     float64\n",
      " 7   KIDNAPPING                38 non-null     float64\n",
      " 8   OFFENCES AGAINST PERSONS  38 non-null     int64  \n",
      "dtypes: float64(5), int64(3), object(1)\n",
      "memory usage: 2.8+ KB\n"
     ]
    }
   ],
   "source": [
    "#Let's see some facts about the data\n",
    "df_crime.info()"
   ]
  },
  {
   "cell_type": "markdown",
   "metadata": {
    "papermill": {
     "duration": 0.054722,
     "end_time": "2020-12-10T07:41:39.522030",
     "exception": false,
     "start_time": "2020-12-10T07:41:39.467308",
     "status": "completed"
    },
    "tags": []
   },
   "source": [
    "### We have 38 rows and 9 columns."
   ]
  },
  {
   "cell_type": "code",
   "execution_count": 8,
   "metadata": {
    "execution": {
     "iopub.execute_input": "2020-12-10T07:41:39.645370Z",
     "iopub.status.busy": "2020-12-10T07:41:39.644536Z",
     "iopub.status.idle": "2020-12-10T07:41:39.677957Z",
     "shell.execute_reply": "2020-12-10T07:41:39.678582Z"
    },
    "papermill": {
     "duration": 0.101874,
     "end_time": "2020-12-10T07:41:39.678727",
     "exception": false,
     "start_time": "2020-12-10T07:41:39.576853",
     "status": "completed"
    },
    "tags": []
   },
   "outputs": [
    {
     "data": {
      "text/html": [
       "<div>\n",
       "<style scoped>\n",
       "    .dataframe tbody tr th:only-of-type {\n",
       "        vertical-align: middle;\n",
       "    }\n",
       "\n",
       "    .dataframe tbody tr th {\n",
       "        vertical-align: top;\n",
       "    }\n",
       "\n",
       "    .dataframe thead th {\n",
       "        text-align: right;\n",
       "    }\n",
       "</style>\n",
       "<table border=\"1\" class=\"dataframe\">\n",
       "  <thead>\n",
       "    <tr style=\"text-align: right;\">\n",
       "      <th></th>\n",
       "      <th>MURDER</th>\n",
       "      <th>MAN SLAUGHTER</th>\n",
       "      <th>ATTEMPTED SUICIDE</th>\n",
       "      <th>ASSAULT</th>\n",
       "      <th>CHILD STEALING</th>\n",
       "      <th>RAPE &amp; INDICENT ASSAULT</th>\n",
       "      <th>KIDNAPPING</th>\n",
       "      <th>OFFENCES AGAINST PERSONS</th>\n",
       "    </tr>\n",
       "  </thead>\n",
       "  <tbody>\n",
       "    <tr>\n",
       "      <th>count</th>\n",
       "      <td>38.000000</td>\n",
       "      <td>38.000000</td>\n",
       "      <td>38.000000</td>\n",
       "      <td>38.000000</td>\n",
       "      <td>38.000000</td>\n",
       "      <td>38.000000</td>\n",
       "      <td>38.000000</td>\n",
       "      <td>38.000000</td>\n",
       "    </tr>\n",
       "    <tr>\n",
       "      <th>mean</th>\n",
       "      <td>84.710526</td>\n",
       "      <td>8.000000</td>\n",
       "      <td>15.076923</td>\n",
       "      <td>706.617647</td>\n",
       "      <td>18.157895</td>\n",
       "      <td>61.594595</td>\n",
       "      <td>30.648649</td>\n",
       "      <td>1411.605263</td>\n",
       "    </tr>\n",
       "    <tr>\n",
       "      <th>std</th>\n",
       "      <td>47.341147</td>\n",
       "      <td>7.120583</td>\n",
       "      <td>18.479297</td>\n",
       "      <td>1920.037697</td>\n",
       "      <td>15.589780</td>\n",
       "      <td>77.657759</td>\n",
       "      <td>29.050949</td>\n",
       "      <td>3325.274202</td>\n",
       "    </tr>\n",
       "    <tr>\n",
       "      <th>min</th>\n",
       "      <td>2.000000</td>\n",
       "      <td>1.000000</td>\n",
       "      <td>1.000000</td>\n",
       "      <td>3.000000</td>\n",
       "      <td>1.000000</td>\n",
       "      <td>1.000000</td>\n",
       "      <td>1.000000</td>\n",
       "      <td>22.000000</td>\n",
       "    </tr>\n",
       "    <tr>\n",
       "      <th>25%</th>\n",
       "      <td>52.000000</td>\n",
       "      <td>5.250000</td>\n",
       "      <td>5.750000</td>\n",
       "      <td>40.250000</td>\n",
       "      <td>8.000000</td>\n",
       "      <td>23.000000</td>\n",
       "      <td>9.250000</td>\n",
       "      <td>371.500000</td>\n",
       "    </tr>\n",
       "    <tr>\n",
       "      <th>50%</th>\n",
       "      <td>77.000000</td>\n",
       "      <td>8.000000</td>\n",
       "      <td>15.076923</td>\n",
       "      <td>129.500000</td>\n",
       "      <td>18.157895</td>\n",
       "      <td>42.000000</td>\n",
       "      <td>23.500000</td>\n",
       "      <td>583.000000</td>\n",
       "    </tr>\n",
       "    <tr>\n",
       "      <th>75%</th>\n",
       "      <td>113.000000</td>\n",
       "      <td>8.000000</td>\n",
       "      <td>15.076923</td>\n",
       "      <td>569.250000</td>\n",
       "      <td>18.157895</td>\n",
       "      <td>83.000000</td>\n",
       "      <td>45.500000</td>\n",
       "      <td>924.500000</td>\n",
       "    </tr>\n",
       "    <tr>\n",
       "      <th>max</th>\n",
       "      <td>216.000000</td>\n",
       "      <td>48.000000</td>\n",
       "      <td>112.000000</td>\n",
       "      <td>8945.000000</td>\n",
       "      <td>68.000000</td>\n",
       "      <td>441.000000</td>\n",
       "      <td>104.000000</td>\n",
       "      <td>18926.000000</td>\n",
       "    </tr>\n",
       "  </tbody>\n",
       "</table>\n",
       "</div>"
      ],
      "text/plain": [
       "           MURDER  MAN SLAUGHTER  ATTEMPTED SUICIDE      ASSAULT  \\\n",
       "count   38.000000      38.000000          38.000000    38.000000   \n",
       "mean    84.710526       8.000000          15.076923   706.617647   \n",
       "std     47.341147       7.120583          18.479297  1920.037697   \n",
       "min      2.000000       1.000000           1.000000     3.000000   \n",
       "25%     52.000000       5.250000           5.750000    40.250000   \n",
       "50%     77.000000       8.000000          15.076923   129.500000   \n",
       "75%    113.000000       8.000000          15.076923   569.250000   \n",
       "max    216.000000      48.000000         112.000000  8945.000000   \n",
       "\n",
       "       CHILD STEALING  RAPE & INDICENT ASSAULT  KIDNAPPING  \\\n",
       "count       38.000000                38.000000   38.000000   \n",
       "mean        18.157895                61.594595   30.648649   \n",
       "std         15.589780                77.657759   29.050949   \n",
       "min          1.000000                 1.000000    1.000000   \n",
       "25%          8.000000                23.000000    9.250000   \n",
       "50%         18.157895                42.000000   23.500000   \n",
       "75%         18.157895                83.000000   45.500000   \n",
       "max         68.000000               441.000000  104.000000   \n",
       "\n",
       "       OFFENCES AGAINST PERSONS  \n",
       "count                 38.000000  \n",
       "mean                1411.605263  \n",
       "std                 3325.274202  \n",
       "min                   22.000000  \n",
       "25%                  371.500000  \n",
       "50%                  583.000000  \n",
       "75%                  924.500000  \n",
       "max                18926.000000  "
      ]
     },
     "execution_count": 8,
     "metadata": {},
     "output_type": "execute_result"
    }
   ],
   "source": [
    "# Let's get some statistics summary\n",
    "\n",
    "df_crime.describe()"
   ]
  },
  {
   "cell_type": "markdown",
   "metadata": {
    "papermill": {
     "duration": 0.056094,
     "end_time": "2020-12-10T07:41:39.790702",
     "exception": false,
     "start_time": "2020-12-10T07:41:39.734608",
     "status": "completed"
    },
    "tags": []
   },
   "source": [
    "### Let's check for missing values."
   ]
  },
  {
   "cell_type": "code",
   "execution_count": 9,
   "metadata": {
    "execution": {
     "iopub.execute_input": "2020-12-10T07:41:39.910890Z",
     "iopub.status.busy": "2020-12-10T07:41:39.908722Z",
     "iopub.status.idle": "2020-12-10T07:41:39.914669Z",
     "shell.execute_reply": "2020-12-10T07:41:39.915311Z"
    },
    "papermill": {
     "duration": 0.068042,
     "end_time": "2020-12-10T07:41:39.915449",
     "exception": false,
     "start_time": "2020-12-10T07:41:39.847407",
     "status": "completed"
    },
    "tags": []
   },
   "outputs": [
    {
     "data": {
      "text/plain": [
       "STATE                       0\n",
       "MURDER                      0\n",
       "MAN SLAUGHTER               0\n",
       "ATTEMPTED SUICIDE           0\n",
       "ASSAULT                     0\n",
       "CHILD STEALING              0\n",
       "RAPE & INDICENT ASSAULT     0\n",
       "KIDNAPPING                  0\n",
       "OFFENCES AGAINST PERSONS    0\n",
       "dtype: int64"
      ]
     },
     "execution_count": 9,
     "metadata": {},
     "output_type": "execute_result"
    }
   ],
   "source": [
    "df_crime.isnull().sum()"
   ]
  },
  {
   "cell_type": "markdown",
   "metadata": {
    "papermill": {
     "duration": 0.056895,
     "end_time": "2020-12-10T07:41:40.028941",
     "exception": false,
     "start_time": "2020-12-10T07:41:39.972046",
     "status": "completed"
    },
    "tags": []
   },
   "source": [
    "### We have no missing values!"
   ]
  },
  {
   "cell_type": "markdown",
   "metadata": {
    "papermill": {
     "duration": 0.056623,
     "end_time": "2020-12-10T07:41:40.142858",
     "exception": false,
     "start_time": "2020-12-10T07:41:40.086235",
     "status": "completed"
    },
    "tags": []
   },
   "source": [
    "## 1) Murder Rate"
   ]
  },
  {
   "cell_type": "code",
   "execution_count": 10,
   "metadata": {
    "collapsed": true,
    "execution": {
     "iopub.execute_input": "2020-12-10T07:41:40.267400Z",
     "iopub.status.busy": "2020-12-10T07:41:40.266477Z",
     "iopub.status.idle": "2020-12-10T07:41:40.859099Z",
     "shell.execute_reply": "2020-12-10T07:41:40.858529Z"
    },
    "papermill": {
     "duration": 0.659356,
     "end_time": "2020-12-10T07:41:40.859203",
     "exception": false,
     "start_time": "2020-12-10T07:41:40.199847",
     "status": "completed"
    },
    "tags": []
   },
   "outputs": [
    {
     "data": {
      "text/plain": [
       "<matplotlib.axes._subplots.AxesSubplot at 0x7f6b784634d0>"
      ]
     },
     "execution_count": 10,
     "metadata": {},
     "output_type": "execute_result"
    },
    {
     "data": {
      "image/png": "[encoded data removed]",
      "text/plain": [
       "<Figure size 1440x360 with 1 Axes>"
      ]
     },
     "metadata": {
      "needs_background": "light"
     },
     "output_type": "display_data"
    }
   ],
   "source": [
    "plt.figure(figsize=(20,5))\n",
    "df_crime.groupby('STATE')['MURDER'].max().plot(kind='bar')"
   ]
  },
  {
   "cell_type": "markdown",
   "metadata": {
    "papermill": {
     "duration": 0.039843,
     "end_time": "2020-12-10T07:41:40.939032",
     "exception": false,
     "start_time": "2020-12-10T07:41:40.899189",
     "status": "completed"
    },
    "tags": []
   },
   "source": [
    "## **Observations**:\n",
    "\n",
    "* Highest Murder Rate : Lagos and Ebonyi\n",
    "* Lowest Murder Rate : Railway, Osun, oyo and Bayelsa."
   ]
  },
  {
   "cell_type": "markdown",
   "metadata": {
    "papermill": {
     "duration": 0.039682,
     "end_time": "2020-12-10T07:41:41.018176",
     "exception": false,
     "start_time": "2020-12-10T07:41:40.978494",
     "status": "completed"
    },
    "tags": []
   },
   "source": [
    "## 2) Assault Rate"
   ]
  },
  {
   "cell_type": "code",
   "execution_count": 11,
   "metadata": {
    "collapsed": true,
    "execution": {
     "iopub.execute_input": "2020-12-10T07:41:41.177183Z",
     "iopub.status.busy": "2020-12-10T07:41:41.110520Z",
     "iopub.status.idle": "2020-12-10T07:41:41.667405Z",
     "shell.execute_reply": "2020-12-10T07:41:41.666812Z"
    },
    "papermill": {
     "duration": 0.60886,
     "end_time": "2020-12-10T07:41:41.667515",
     "exception": false,
     "start_time": "2020-12-10T07:41:41.058655",
     "status": "completed"
    },
    "tags": []
   },
   "outputs": [
    {
     "data": {
      "text/plain": [
       "<matplotlib.axes._subplots.AxesSubplot at 0x7f6b77f11090>"
      ]
     },
     "execution_count": 11,
     "metadata": {},
     "output_type": "execute_result"
    },
    {
     "data": {
      "image/png": "[encoded data removed]",
      "text/plain": [
       "<Figure size 1440x360 with 1 Axes>"
      ]
     },
     "metadata": {
      "needs_background": "light"
     },
     "output_type": "display_data"
    }
   ],
   "source": [
    "plt.figure(figsize=(20,5))\n",
    "df_crime.groupby('STATE')['ASSAULT'].max().plot(kind='bar')"
   ]
  },
  {
   "cell_type": "markdown",
   "metadata": {
    "papermill": {
     "duration": 0.040952,
     "end_time": "2020-12-10T07:41:41.750357",
     "exception": false,
     "start_time": "2020-12-10T07:41:41.709405",
     "status": "completed"
    },
    "tags": []
   },
   "source": [
    "## **Observations**:\n",
    "\n",
    "* Highest Assualt Rate : ABIA and LAGOS.\n",
    "* Lowest Assualt Rate : RAILWAY, YOBE, ZAMFARA, BORNO, BAUCHI, EDO, KADUNA, JIGAWA, EKITI and GOMBE."
   ]
  },
  {
   "cell_type": "markdown",
   "metadata": {
    "papermill": {
     "duration": 0.041069,
     "end_time": "2020-12-10T07:41:41.832928",
     "exception": false,
     "start_time": "2020-12-10T07:41:41.791859",
     "status": "completed"
    },
    "tags": []
   },
   "source": [
    "## 3) Rape & Incident assault Rate"
   ]
  },
  {
   "cell_type": "code",
   "execution_count": 12,
   "metadata": {
    "collapsed": true,
    "execution": {
     "iopub.execute_input": "2020-12-10T07:41:41.934453Z",
     "iopub.status.busy": "2020-12-10T07:41:41.929560Z",
     "iopub.status.idle": "2020-12-10T07:41:42.444195Z",
     "shell.execute_reply": "2020-12-10T07:41:42.443513Z"
    },
    "papermill": {
     "duration": 0.56977,
     "end_time": "2020-12-10T07:41:42.444299",
     "exception": false,
     "start_time": "2020-12-10T07:41:41.874529",
     "status": "completed"
    },
    "tags": []
   },
   "outputs": [
    {
     "data": {
      "text/plain": [
       "<matplotlib.axes._subplots.AxesSubplot at 0x7f6b7808eed0>"
      ]
     },
     "execution_count": 12,
     "metadata": {},
     "output_type": "execute_result"
    },
    {
     "data": {
      "image/png": "[encoded data removed]",
      "text/plain": [
       "<Figure size 1440x360 with 1 Axes>"
      ]
     },
     "metadata": {
      "needs_background": "light"
     },
     "output_type": "display_data"
    }
   ],
   "source": [
    "plt.figure(figsize=(20,5))\n",
    "df_crime.groupby('STATE')['RAPE & INDICENT ASSAULT'].max().plot(kind='bar')"
   ]
  },
  {
   "cell_type": "markdown",
   "metadata": {
    "papermill": {
     "duration": 0.043769,
     "end_time": "2020-12-10T07:41:42.533318",
     "exception": false,
     "start_time": "2020-12-10T07:41:42.489549",
     "status": "completed"
    },
    "tags": []
   },
   "source": [
    "## Observations:\n",
    "\n",
    "* Highest Rape and Insident assault Rate : LAGOS and KANO.\n",
    "* Lowest Rape and incident assault Rate  : KASTINA, OSUN, RAILWAY, RIVERS"
   ]
  },
  {
   "cell_type": "markdown",
   "metadata": {
    "papermill": {
     "duration": 0.04393,
     "end_time": "2020-12-10T07:41:42.621745",
     "exception": false,
     "start_time": "2020-12-10T07:41:42.577815",
     "status": "completed"
    },
    "tags": []
   },
   "source": [
    "## 4) Offence against a person"
   ]
  },
  {
   "cell_type": "code",
   "execution_count": 13,
   "metadata": {
    "collapsed": true,
    "execution": {
     "iopub.execute_input": "2020-12-10T07:41:42.726609Z",
     "iopub.status.busy": "2020-12-10T07:41:42.725732Z",
     "iopub.status.idle": "2020-12-10T07:41:43.221195Z",
     "shell.execute_reply": "2020-12-10T07:41:43.220634Z"
    },
    "papermill": {
     "duration": 0.555357,
     "end_time": "2020-12-10T07:41:43.221306",
     "exception": false,
     "start_time": "2020-12-10T07:41:42.665949",
     "status": "completed"
    },
    "tags": []
   },
   "outputs": [
    {
     "data": {
      "text/plain": [
       "<matplotlib.axes._subplots.AxesSubplot at 0x7f6b77d39f10>"
      ]
     },
     "execution_count": 13,
     "metadata": {},
     "output_type": "execute_result"
    },
    {
     "data": {
      "image/png": "[encoded data removed]",
      "text/plain": [
       "<Figure size 1440x360 with 1 Axes>"
      ]
     },
     "metadata": {
      "needs_background": "light"
     },
     "output_type": "display_data"
    }
   ],
   "source": [
    "plt.figure(figsize=(20,5))\n",
    "df_crime.groupby('STATE')['OFFENCES AGAINST PERSONS'].max().plot(kind='bar')"
   ]
  },
  {
   "cell_type": "code",
   "execution_count": 14,
   "metadata": {
    "collapsed": true,
    "execution": {
     "iopub.execute_input": "2020-12-10T07:41:43.329322Z",
     "iopub.status.busy": "2020-12-10T07:41:43.322333Z",
     "iopub.status.idle": "2020-12-10T07:41:43.618381Z",
     "shell.execute_reply": "2020-12-10T07:41:43.617896Z"
    },
    "papermill": {
     "duration": 0.351489,
     "end_time": "2020-12-10T07:41:43.618494",
     "exception": false,
     "start_time": "2020-12-10T07:41:43.267005",
     "status": "completed"
    },
    "tags": []
   },
   "outputs": [
    {
     "data": {
      "text/plain": [
       "Text(0, 0.5, 'Murder Rate')"
      ]
     },
     "execution_count": 14,
     "metadata": {},
     "output_type": "execute_result"
    },
    {
     "data": {
      "image/png": "[encoded data removed]",
      "text/plain": [
       "<Figure size 720x360 with 1 Axes>"
      ]
     },
     "metadata": {
      "needs_background": "light"
     },
     "output_type": "display_data"
    }
   ],
   "source": [
    "plt.figure(figsize=(10,5))\n",
    "plt.scatter('OFFENCES AGAINST PERSONS','MURDER',data=df_crime)\n",
    "plt.xlabel('Offences against person')\n",
    "plt.ylabel('Murder Rate')"
   ]
  },
  {
   "cell_type": "code",
   "execution_count": 15,
   "metadata": {
    "collapsed": true,
    "execution": {
     "iopub.execute_input": "2020-12-10T07:41:43.735669Z",
     "iopub.status.busy": "2020-12-10T07:41:43.733828Z",
     "iopub.status.idle": "2020-12-10T07:41:44.006712Z",
     "shell.execute_reply": "2020-12-10T07:41:44.006187Z"
    },
    "papermill": {
     "duration": 0.341903,
     "end_time": "2020-12-10T07:41:44.006845",
     "exception": false,
     "start_time": "2020-12-10T07:41:43.664942",
     "status": "completed"
    },
    "tags": []
   },
   "outputs": [
    {
     "data": {
      "text/plain": [
       "Text(0, 0.5, 'Rape Rate')"
      ]
     },
     "execution_count": 15,
     "metadata": {},
     "output_type": "execute_result"
    },
    {
     "data": {
      "image/png": "[encoded data removed]",
      "text/plain": [
       "<Figure size 720x360 with 1 Axes>"
      ]
     },
     "metadata": {
      "needs_background": "light"
     },
     "output_type": "display_data"
    }
   ],
   "source": [
    "plt.figure(figsize=(10,5))\n",
    "plt.scatter('OFFENCES AGAINST PERSONS','RAPE & INDICENT ASSAULT',data=df_crime)\n",
    "plt.xlabel('Offences against persons')\n",
    "plt.ylabel('Rape Rate')"
   ]
  },
  {
   "cell_type": "code",
   "execution_count": 16,
   "metadata": {
    "collapsed": true,
    "execution": {
     "iopub.execute_input": "2020-12-10T07:41:44.116464Z",
     "iopub.status.busy": "2020-12-10T07:41:44.110022Z",
     "iopub.status.idle": "2020-12-10T07:41:44.448249Z",
     "shell.execute_reply": "2020-12-10T07:41:44.447534Z"
    },
    "papermill": {
     "duration": 0.39285,
     "end_time": "2020-12-10T07:41:44.448385",
     "exception": false,
     "start_time": "2020-12-10T07:41:44.055535",
     "status": "completed"
    },
    "tags": []
   },
   "outputs": [
    {
     "data": {
      "text/plain": [
       "Text(0, 0.5, 'Assault Rate')"
      ]
     },
     "execution_count": 16,
     "metadata": {},
     "output_type": "execute_result"
    },
    {
     "data": {
      "image/png": "[encoded data removed]",
      "text/plain": [
       "<Figure size 720x360 with 1 Axes>"
      ]
     },
     "metadata": {
      "needs_background": "light"
     },
     "output_type": "display_data"
    }
   ],
   "source": [
    "plt.figure(figsize=(10,5))\n",
    "plt.scatter('OFFENCES AGAINST PERSONS','ASSAULT',data=df_crime)\n",
    "plt.xlabel('Offences against persons')\n",
    "plt.ylabel('Assault Rate')"
   ]
  },
  {
   "cell_type": "code",
   "execution_count": 17,
   "metadata": {
    "execution": {
     "iopub.execute_input": "2020-12-10T07:41:44.597492Z",
     "iopub.status.busy": "2020-12-10T07:41:44.596681Z",
     "iopub.status.idle": "2020-12-10T07:41:44.600424Z",
     "shell.execute_reply": "2020-12-10T07:41:44.599653Z"
    },
    "papermill": {
     "duration": 0.081023,
     "end_time": "2020-12-10T07:41:44.600543",
     "exception": false,
     "start_time": "2020-12-10T07:41:44.519520",
     "status": "completed"
    },
    "tags": []
   },
   "outputs": [],
   "source": [
    "data = df_crime.iloc[:,1:].values"
   ]
  },
  {
   "cell_type": "code",
   "execution_count": 18,
   "metadata": {
    "execution": {
     "iopub.execute_input": "2020-12-10T07:41:44.749720Z",
     "iopub.status.busy": "2020-12-10T07:41:44.748588Z",
     "iopub.status.idle": "2020-12-10T07:41:44.753009Z",
     "shell.execute_reply": "2020-12-10T07:41:44.752272Z"
    },
    "papermill": {
     "duration": 0.081801,
     "end_time": "2020-12-10T07:41:44.753151",
     "exception": false,
     "start_time": "2020-12-10T07:41:44.671350",
     "status": "completed"
    },
    "tags": []
   },
   "outputs": [],
   "source": [
    "scaled_data = scaler.fit_transform(data)"
   ]
  },
  {
   "cell_type": "markdown",
   "metadata": {
    "papermill": {
     "duration": 0.071966,
     "end_time": "2020-12-10T07:41:44.898642",
     "exception": false,
     "start_time": "2020-12-10T07:41:44.826676",
     "status": "completed"
    },
    "tags": []
   },
   "source": [
    "## Types of Linkages:"
   ]
  },
  {
   "cell_type": "markdown",
   "metadata": {
    "papermill": {
     "duration": 0.072336,
     "end_time": "2020-12-10T07:41:45.043235",
     "exception": false,
     "start_time": "2020-12-10T07:41:44.970899",
     "status": "completed"
    },
    "tags": []
   },
   "source": [
    "## 1) Single Leakage:\n",
    "\n",
    "The distance between 2 clusters is defined as the shortest distance between points in the two clusters"
   ]
  },
  {
   "cell_type": "code",
   "execution_count": 19,
   "metadata": {
    "collapsed": true,
    "execution": {
     "iopub.execute_input": "2020-12-10T07:41:45.206114Z",
     "iopub.status.busy": "2020-12-10T07:41:45.194054Z",
     "iopub.status.idle": "2020-12-10T07:41:45.628161Z",
     "shell.execute_reply": "2020-12-10T07:41:45.627612Z"
    },
    "papermill": {
     "duration": 0.512082,
     "end_time": "2020-12-10T07:41:45.628273",
     "exception": false,
     "start_time": "2020-12-10T07:41:45.116191",
     "status": "completed"
    },
    "tags": []
   },
   "outputs": [
    {
     "data": {
      "text/plain": [
       "Text(0, 0.5, 'Euclidean distances')"
      ]
     },
     "execution_count": 19,
     "metadata": {},
     "output_type": "execute_result"
    },
    {
     "data": {
      "image/png": "[encoded data removed]",
      "text/plain": [
       "<Figure size 1440x360 with 1 Axes>"
      ]
     },
     "metadata": {
      "needs_background": "light"
     },
     "output_type": "display_data"
    }
   ],
   "source": [
    "plt.figure(figsize=(20,5))\n",
    "plt.title(\"Crime Rate Dendograms\")\n",
    "dend = sch.dendrogram(sch.linkage(scaled_data, method='single'))\n",
    "plt.xlabel('Crime Rate')\n",
    "plt.ylabel('Euclidean distances')"
   ]
  },
  {
   "cell_type": "markdown",
   "metadata": {
    "papermill": {
     "duration": 0.05061,
     "end_time": "2020-12-10T07:41:45.729564",
     "exception": false,
     "start_time": "2020-12-10T07:41:45.678954",
     "status": "completed"
    },
    "tags": []
   },
   "source": [
    "#### The hierarchy class has a dendrogram method which takes the value returned by the linkage method of the same class. The linkage method takes the dataset and the method to minimize distances as parameters."
   ]
  },
  {
   "cell_type": "markdown",
   "metadata": {
    "papermill": {
     "duration": 0.049876,
     "end_time": "2020-12-10T07:41:45.829945",
     "exception": false,
     "start_time": "2020-12-10T07:41:45.780069",
     "status": "completed"
    },
    "tags": []
   },
   "source": [
    "## 2) Complete Linkage:\n",
    "\n",
    "The distance between 2 clusters is defined as the maximum distance between any 2 points in the clusters"
   ]
  },
  {
   "cell_type": "code",
   "execution_count": 20,
   "metadata": {
    "collapsed": true,
    "execution": {
     "iopub.execute_input": "2020-12-10T07:41:45.945243Z",
     "iopub.status.busy": "2020-12-10T07:41:45.937089Z",
     "iopub.status.idle": "2020-12-10T07:41:46.368402Z",
     "shell.execute_reply": "2020-12-10T07:41:46.367665Z"
    },
    "papermill": {
     "duration": 0.488029,
     "end_time": "2020-12-10T07:41:46.368523",
     "exception": false,
     "start_time": "2020-12-10T07:41:45.880494",
     "status": "completed"
    },
    "tags": []
   },
   "outputs": [
    {
     "data": {
      "text/plain": [
       "Text(0, 0.5, 'Euclidean distances')"
      ]
     },
     "execution_count": 20,
     "metadata": {},
     "output_type": "execute_result"
    },
    {
     "data": {
      "image/png": "[encoded data removed]",
      "text/plain": [
       "<Figure size 1440x360 with 1 Axes>"
      ]
     },
     "metadata": {
      "needs_background": "light"
     },
     "output_type": "display_data"
    }
   ],
   "source": [
    "plt.figure(figsize=(20,5))\n",
    "plt.title(\"Crime Rate Dendograms\")\n",
    "dend = sch.dendrogram(sch.linkage(scaled_data, method='complete'))\n",
    "plt.xlabel('Crime Rate')\n",
    "plt.ylabel('Euclidean distances')"
   ]
  },
  {
   "cell_type": "markdown",
   "metadata": {
    "papermill": {
     "duration": 0.074618,
     "end_time": "2020-12-10T07:41:46.518562",
     "exception": false,
     "start_time": "2020-12-10T07:41:46.443944",
     "status": "completed"
    },
    "tags": []
   },
   "source": [
    "## 3) Average Linkage: \n",
    "    \n",
    "The distance between 2 clusters is defined as the average distance between every point of one cluster to every other point of the other cluster."
   ]
  },
  {
   "cell_type": "code",
   "execution_count": 21,
   "metadata": {
    "collapsed": true,
    "execution": {
     "iopub.execute_input": "2020-12-10T07:41:46.680669Z",
     "iopub.status.busy": "2020-12-10T07:41:46.674466Z",
     "iopub.status.idle": "2020-12-10T07:41:47.097404Z",
     "shell.execute_reply": "2020-12-10T07:41:47.096737Z"
    },
    "papermill": {
     "duration": 0.503942,
     "end_time": "2020-12-10T07:41:47.097510",
     "exception": false,
     "start_time": "2020-12-10T07:41:46.593568",
     "status": "completed"
    },
    "tags": []
   },
   "outputs": [
    {
     "data": {
      "text/plain": [
       "Text(0, 0.5, 'Euclidean distances')"
      ]
     },
     "execution_count": 21,
     "metadata": {},
     "output_type": "execute_result"
    },
    {
     "data": {
      "image/png": "[encoded data removed]",
      "text/plain": [
       "<Figure size 1440x360 with 1 Axes>"
      ]
     },
     "metadata": {
      "needs_background": "light"
     },
     "output_type": "display_data"
    }
   ],
   "source": [
    "plt.figure(figsize=(20,5))\n",
    "plt.title(\"Crime Rate Dendograms\")\n",
    "dend = sch.dendrogram(sch.linkage(scaled_data, method='average'))\n",
    "plt.xlabel('Crime Rate')\n",
    "plt.ylabel('Euclidean distances')"
   ]
  },
  {
   "cell_type": "markdown",
   "metadata": {
    "papermill": {
     "duration": 0.053134,
     "end_time": "2020-12-10T07:41:47.203881",
     "exception": false,
     "start_time": "2020-12-10T07:41:47.150747",
     "status": "completed"
    },
    "tags": []
   },
   "source": [
    "#### The single linkage type will produce dendrograms which are not structured properly, whereas complete or average linkage will produce clusters which have a proper tree-like structure."
   ]
  },
  {
   "cell_type": "code",
   "execution_count": 22,
   "metadata": {
    "collapsed": true,
    "execution": {
     "iopub.execute_input": "2020-12-10T07:41:47.325223Z",
     "iopub.status.busy": "2020-12-10T07:41:47.318276Z",
     "iopub.status.idle": "2020-12-10T07:41:47.766330Z",
     "shell.execute_reply": "2020-12-10T07:41:47.765817Z"
    },
    "papermill": {
     "duration": 0.50887,
     "end_time": "2020-12-10T07:41:47.766439",
     "exception": false,
     "start_time": "2020-12-10T07:41:47.257569",
     "status": "completed"
    },
    "tags": []
   },
   "outputs": [
    {
     "data": {
      "image/png": "[encoded data removed]",
      "text/plain": [
       "<Figure size 1440x576 with 1 Axes>"
      ]
     },
     "metadata": {
      "needs_background": "light"
     },
     "output_type": "display_data"
    }
   ],
   "source": [
    "# With Ward method\n",
    "plt.figure(figsize=(20,8))\n",
    "dendrogram = sch.dendrogram(sch.linkage(data, method  = \"ward\"))\n",
    "plt.title('Dendrogram')\n",
    "plt.xlabel('Crime Rate')\n",
    "plt.ylabel('Euclidean distances')\n",
    "plt.show()"
   ]
  },
  {
   "cell_type": "markdown",
   "metadata": {
    "papermill": {
     "duration": 0.054792,
     "end_time": "2020-12-10T07:41:47.875895",
     "exception": false,
     "start_time": "2020-12-10T07:41:47.821103",
     "status": "completed"
    },
    "tags": []
   },
   "source": [
    "## How do we determine the optimal number of clusters from this diagram? \n",
    "\n",
    "We look for the largest distance that we can vertically without crossing any horizontal line and this one is the red framed line on the above diagram. Let’s count the number of lines on the diagram and determine the optimal number of clusters. Cluster number will be 3 for this dataset."
   ]
  },
  {
   "cell_type": "code",
   "execution_count": 23,
   "metadata": {
    "execution": {
     "iopub.execute_input": "2020-12-10T07:41:47.992303Z",
     "iopub.status.busy": "2020-12-10T07:41:47.991456Z",
     "iopub.status.idle": "2020-12-10T07:41:47.995836Z",
     "shell.execute_reply": "2020-12-10T07:41:47.995210Z"
    },
    "papermill": {
     "duration": 0.064857,
     "end_time": "2020-12-10T07:41:47.995951",
     "exception": false,
     "start_time": "2020-12-10T07:41:47.931094",
     "status": "completed"
    },
    "tags": []
   },
   "outputs": [],
   "source": [
    "# Fit the Agglomerative Clustering\n",
    " \n",
    "AC = AgglomerativeClustering(n_clusters = 4, affinity = 'euclidean', linkage ='ward')"
   ]
  },
  {
   "cell_type": "markdown",
   "metadata": {
    "papermill": {
     "duration": 0.05466,
     "end_time": "2020-12-10T07:41:48.106172",
     "exception": false,
     "start_time": "2020-12-10T07:41:48.051512",
     "status": "completed"
    },
    "tags": []
   },
   "source": [
    "**Ward** method is actually a method that tries to minimize the variance within each cluster. In K-means when we were trying to minimize the wcss to plot our elbow method chart, here it’s almost the same the only difference is that instead of minimizing wcss we are minimizing the within-cluster variants. That is the variance within each cluster."
   ]
  },
  {
   "cell_type": "code",
   "execution_count": 24,
   "metadata": {
    "execution": {
     "iopub.execute_input": "2020-12-10T07:41:48.224862Z",
     "iopub.status.busy": "2020-12-10T07:41:48.224020Z",
     "iopub.status.idle": "2020-12-10T07:41:48.229643Z",
     "shell.execute_reply": "2020-12-10T07:41:48.228811Z"
    },
    "papermill": {
     "duration": 0.06797,
     "end_time": "2020-12-10T07:41:48.229807",
     "exception": false,
     "start_time": "2020-12-10T07:41:48.161837",
     "status": "completed"
    },
    "tags": []
   },
   "outputs": [
    {
     "data": {
      "text/plain": [
       "array([0, 0, 0, 2, 0, 0, 0, 0, 0, 0, 3, 0, 0, 0, 0, 0, 0, 0, 0, 0, 0, 0,\n",
       "       0, 0, 1, 0, 0, 0, 0, 0, 0, 0, 0, 0, 0, 0, 0, 0])"
      ]
     },
     "execution_count": 24,
     "metadata": {},
     "output_type": "execute_result"
    }
   ],
   "source": [
    "# Fit and predict to have the cluster labels.\n",
    "y_pred =AC.fit_predict(data)\n",
    "y_pred"
   ]
  },
  {
   "cell_type": "code",
   "execution_count": 25,
   "metadata": {
    "execution": {
     "iopub.execute_input": "2020-12-10T07:41:48.398251Z",
     "iopub.status.busy": "2020-12-10T07:41:48.397355Z",
     "iopub.status.idle": "2020-12-10T07:41:48.400679Z",
     "shell.execute_reply": "2020-12-10T07:41:48.400067Z"
    },
    "papermill": {
     "duration": 0.089172,
     "end_time": "2020-12-10T07:41:48.400812",
     "exception": false,
     "start_time": "2020-12-10T07:41:48.311640",
     "status": "completed"
    },
    "tags": []
   },
   "outputs": [],
   "source": [
    "# Fetch the cluster labels\n",
    "df_crime['cluster labels']= y_pred"
   ]
  },
  {
   "cell_type": "code",
   "execution_count": 26,
   "metadata": {
    "collapsed": true,
    "execution": {
     "iopub.execute_input": "2020-12-10T07:41:48.527931Z",
     "iopub.status.busy": "2020-12-10T07:41:48.527056Z",
     "iopub.status.idle": "2020-12-10T07:41:48.532373Z",
     "shell.execute_reply": "2020-12-10T07:41:48.531876Z"
    },
    "papermill": {
     "duration": 0.075502,
     "end_time": "2020-12-10T07:41:48.532475",
     "exception": false,
     "start_time": "2020-12-10T07:41:48.456973",
     "status": "completed"
    },
    "tags": []
   },
   "outputs": [
    {
     "data": {
      "text/html": [
       "<div>\n",
       "<style scoped>\n",
       "    .dataframe tbody tr th:only-of-type {\n",
       "        vertical-align: middle;\n",
       "    }\n",
       "\n",
       "    .dataframe tbody tr th {\n",
       "        vertical-align: top;\n",
       "    }\n",
       "\n",
       "    .dataframe thead th {\n",
       "        text-align: right;\n",
       "    }\n",
       "</style>\n",
       "<table border=\"1\" class=\"dataframe\">\n",
       "  <thead>\n",
       "    <tr style=\"text-align: right;\">\n",
       "      <th></th>\n",
       "      <th>STATE</th>\n",
       "      <th>cluster labels</th>\n",
       "    </tr>\n",
       "  </thead>\n",
       "  <tbody>\n",
       "    <tr>\n",
       "      <th>0</th>\n",
       "      <td>ABUJA</td>\n",
       "      <td>0</td>\n",
       "    </tr>\n",
       "    <tr>\n",
       "      <th>1</th>\n",
       "      <td>AKWA IBOM</td>\n",
       "      <td>0</td>\n",
       "    </tr>\n",
       "    <tr>\n",
       "      <th>2</th>\n",
       "      <td>ANAMBRA</td>\n",
       "      <td>0</td>\n",
       "    </tr>\n",
       "    <tr>\n",
       "      <th>3</th>\n",
       "      <td>ABIA</td>\n",
       "      <td>2</td>\n",
       "    </tr>\n",
       "    <tr>\n",
       "      <th>4</th>\n",
       "      <td>ADAMAWA</td>\n",
       "      <td>0</td>\n",
       "    </tr>\n",
       "    <tr>\n",
       "      <th>5</th>\n",
       "      <td>BAUCHI</td>\n",
       "      <td>0</td>\n",
       "    </tr>\n",
       "    <tr>\n",
       "      <th>6</th>\n",
       "      <td>BENUE</td>\n",
       "      <td>0</td>\n",
       "    </tr>\n",
       "    <tr>\n",
       "      <th>7</th>\n",
       "      <td>BORNO</td>\n",
       "      <td>0</td>\n",
       "    </tr>\n",
       "    <tr>\n",
       "      <th>8</th>\n",
       "      <td>BAYELSA</td>\n",
       "      <td>0</td>\n",
       "    </tr>\n",
       "    <tr>\n",
       "      <th>9</th>\n",
       "      <td>CROSS RIVER</td>\n",
       "      <td>0</td>\n",
       "    </tr>\n",
       "    <tr>\n",
       "      <th>10</th>\n",
       "      <td>DELTA</td>\n",
       "      <td>3</td>\n",
       "    </tr>\n",
       "    <tr>\n",
       "      <th>11</th>\n",
       "      <td>EBONYI</td>\n",
       "      <td>0</td>\n",
       "    </tr>\n",
       "    <tr>\n",
       "      <th>12</th>\n",
       "      <td>EDO</td>\n",
       "      <td>0</td>\n",
       "    </tr>\n",
       "    <tr>\n",
       "      <th>13</th>\n",
       "      <td>ENUGU</td>\n",
       "      <td>0</td>\n",
       "    </tr>\n",
       "    <tr>\n",
       "      <th>14</th>\n",
       "      <td>GOMBE</td>\n",
       "      <td>0</td>\n",
       "    </tr>\n",
       "    <tr>\n",
       "      <th>15</th>\n",
       "      <td>EKITI</td>\n",
       "      <td>0</td>\n",
       "    </tr>\n",
       "    <tr>\n",
       "      <th>16</th>\n",
       "      <td>IMO</td>\n",
       "      <td>0</td>\n",
       "    </tr>\n",
       "    <tr>\n",
       "      <th>17</th>\n",
       "      <td>JIGAWA</td>\n",
       "      <td>0</td>\n",
       "    </tr>\n",
       "    <tr>\n",
       "      <th>18</th>\n",
       "      <td>KADUNA</td>\n",
       "      <td>0</td>\n",
       "    </tr>\n",
       "    <tr>\n",
       "      <th>19</th>\n",
       "      <td>KANO</td>\n",
       "      <td>0</td>\n",
       "    </tr>\n",
       "    <tr>\n",
       "      <th>20</th>\n",
       "      <td>KATSINA</td>\n",
       "      <td>0</td>\n",
       "    </tr>\n",
       "    <tr>\n",
       "      <th>21</th>\n",
       "      <td>KEBBI</td>\n",
       "      <td>0</td>\n",
       "    </tr>\n",
       "    <tr>\n",
       "      <th>22</th>\n",
       "      <td>KOGI</td>\n",
       "      <td>0</td>\n",
       "    </tr>\n",
       "    <tr>\n",
       "      <th>23</th>\n",
       "      <td>KWARA</td>\n",
       "      <td>0</td>\n",
       "    </tr>\n",
       "    <tr>\n",
       "      <th>24</th>\n",
       "      <td>LAGOS</td>\n",
       "      <td>1</td>\n",
       "    </tr>\n",
       "    <tr>\n",
       "      <th>25</th>\n",
       "      <td>NIGER</td>\n",
       "      <td>0</td>\n",
       "    </tr>\n",
       "    <tr>\n",
       "      <th>26</th>\n",
       "      <td>NASARAWA</td>\n",
       "      <td>0</td>\n",
       "    </tr>\n",
       "    <tr>\n",
       "      <th>27</th>\n",
       "      <td>OGUN</td>\n",
       "      <td>0</td>\n",
       "    </tr>\n",
       "    <tr>\n",
       "      <th>28</th>\n",
       "      <td>ONDO</td>\n",
       "      <td>0</td>\n",
       "    </tr>\n",
       "    <tr>\n",
       "      <th>29</th>\n",
       "      <td>OYO</td>\n",
       "      <td>0</td>\n",
       "    </tr>\n",
       "    <tr>\n",
       "      <th>30</th>\n",
       "      <td>OSUN</td>\n",
       "      <td>0</td>\n",
       "    </tr>\n",
       "    <tr>\n",
       "      <th>31</th>\n",
       "      <td>PLATEAU</td>\n",
       "      <td>0</td>\n",
       "    </tr>\n",
       "    <tr>\n",
       "      <th>32</th>\n",
       "      <td>RIVERS</td>\n",
       "      <td>0</td>\n",
       "    </tr>\n",
       "    <tr>\n",
       "      <th>33</th>\n",
       "      <td>SOKOTO</td>\n",
       "      <td>0</td>\n",
       "    </tr>\n",
       "    <tr>\n",
       "      <th>34</th>\n",
       "      <td>TARABA</td>\n",
       "      <td>0</td>\n",
       "    </tr>\n",
       "    <tr>\n",
       "      <th>35</th>\n",
       "      <td>YOBE</td>\n",
       "      <td>0</td>\n",
       "    </tr>\n",
       "    <tr>\n",
       "      <th>36</th>\n",
       "      <td>ZAMFARA</td>\n",
       "      <td>0</td>\n",
       "    </tr>\n",
       "    <tr>\n",
       "      <th>37</th>\n",
       "      <td>RAILWAY</td>\n",
       "      <td>0</td>\n",
       "    </tr>\n",
       "  </tbody>\n",
       "</table>\n",
       "</div>"
      ],
      "text/plain": [
       "          STATE  cluster labels\n",
       "0         ABUJA               0\n",
       "1     AKWA IBOM               0\n",
       "2       ANAMBRA               0\n",
       "3          ABIA               2\n",
       "4       ADAMAWA               0\n",
       "5        BAUCHI               0\n",
       "6         BENUE               0\n",
       "7         BORNO               0\n",
       "8       BAYELSA               0\n",
       "9   CROSS RIVER               0\n",
       "10        DELTA               3\n",
       "11       EBONYI               0\n",
       "12          EDO               0\n",
       "13        ENUGU               0\n",
       "14        GOMBE               0\n",
       "15        EKITI               0\n",
       "16          IMO               0\n",
       "17       JIGAWA               0\n",
       "18       KADUNA               0\n",
       "19         KANO               0\n",
       "20      KATSINA               0\n",
       "21        KEBBI               0\n",
       "22         KOGI               0\n",
       "23        KWARA               0\n",
       "24        LAGOS               1\n",
       "25        NIGER               0\n",
       "26     NASARAWA               0\n",
       "27         OGUN               0\n",
       "28         ONDO               0\n",
       "29          OYO               0\n",
       "30         OSUN               0\n",
       "31      PLATEAU               0\n",
       "32       RIVERS               0\n",
       "33       SOKOTO               0\n",
       "34       TARABA               0\n",
       "35         YOBE               0\n",
       "36      ZAMFARA               0\n",
       "37      RAILWAY               0"
      ]
     },
     "execution_count": 26,
     "metadata": {},
     "output_type": "execute_result"
    }
   ],
   "source": [
    "# Let's see which State falls in which cluster\n",
    "df_crime[['STATE','cluster labels']]"
   ]
  },
  {
   "cell_type": "code",
   "execution_count": 27,
   "metadata": {
    "collapsed": true,
    "execution": {
     "iopub.execute_input": "2020-12-10T07:41:48.654231Z",
     "iopub.status.busy": "2020-12-10T07:41:48.652377Z",
     "iopub.status.idle": "2020-12-10T07:41:48.929229Z",
     "shell.execute_reply": "2020-12-10T07:41:48.929743Z"
    },
    "papermill": {
     "duration": 0.34101,
     "end_time": "2020-12-10T07:41:48.929900",
     "exception": false,
     "start_time": "2020-12-10T07:41:48.588890",
     "status": "completed"
    },
    "tags": []
   },
   "outputs": [
    {
     "data": {
      "text/plain": [
       "<matplotlib.axes._subplots.AxesSubplot at 0x7f6b7787d750>"
      ]
     },
     "execution_count": 27,
     "metadata": {},
     "output_type": "execute_result"
    },
    {
     "data": {
      "image/png": "[encoded data removed]",
      "text/plain": [
       "<Figure size 720x360 with 1 Axes>"
      ]
     },
     "metadata": {
      "needs_background": "light"
     },
     "output_type": "display_data"
    }
   ],
   "source": [
    "plt.figure(figsize=(10,5))\n",
    "sns.boxplot(x='cluster labels', y='MURDER', data=df_crime)"
   ]
  },
  {
   "cell_type": "code",
   "execution_count": 28,
   "metadata": {
    "collapsed": true,
    "execution": {
     "iopub.execute_input": "2020-12-10T07:41:49.052145Z",
     "iopub.status.busy": "2020-12-10T07:41:49.049601Z",
     "iopub.status.idle": "2020-12-10T07:41:49.250791Z",
     "shell.execute_reply": "2020-12-10T07:41:49.250265Z"
    },
    "papermill": {
     "duration": 0.263609,
     "end_time": "2020-12-10T07:41:49.250896",
     "exception": false,
     "start_time": "2020-12-10T07:41:48.987287",
     "status": "completed"
    },
    "tags": []
   },
   "outputs": [
    {
     "data": {
      "text/plain": [
       "<matplotlib.axes._subplots.AxesSubplot at 0x7f6b77b9e650>"
      ]
     },
     "execution_count": 28,
     "metadata": {},
     "output_type": "execute_result"
    },
    {
     "data": {
      "image/png": "[encoded data removed]",
      "text/plain": [
       "<Figure size 720x360 with 1 Axes>"
      ]
     },
     "metadata": {
      "needs_background": "light"
     },
     "output_type": "display_data"
    }
   ],
   "source": [
    "plt.figure(figsize=(10,5))\n",
    "sns.boxplot(x='cluster labels', y='RAPE & INDICENT ASSAULT', data=df_crime)"
   ]
  },
  {
   "cell_type": "code",
   "execution_count": 29,
   "metadata": {
    "collapsed": true,
    "execution": {
     "iopub.execute_input": "2020-12-10T07:41:49.383315Z",
     "iopub.status.busy": "2020-12-10T07:41:49.377453Z",
     "iopub.status.idle": "2020-12-10T07:41:49.568363Z",
     "shell.execute_reply": "2020-12-10T07:41:49.567729Z"
    },
    "papermill": {
     "duration": 0.257415,
     "end_time": "2020-12-10T07:41:49.568466",
     "exception": false,
     "start_time": "2020-12-10T07:41:49.311051",
     "status": "completed"
    },
    "tags": []
   },
   "outputs": [
    {
     "data": {
      "text/plain": [
       "<matplotlib.axes._subplots.AxesSubplot at 0x7f6b78043850>"
      ]
     },
     "execution_count": 29,
     "metadata": {},
     "output_type": "execute_result"
    },
    {
     "data": {
      "image/png": "[encoded data removed]",
      "text/plain": [
       "<Figure size 720x360 with 1 Axes>"
      ]
     },
     "metadata": {
      "needs_background": "light"
     },
     "output_type": "display_data"
    }
   ],
   "source": [
    "plt.figure(figsize=(10,5))\n",
    "sns.boxplot(x='cluster labels', y='ASSAULT', data=df_crime)"
   ]
  },
  {
   "cell_type": "code",
   "execution_count": 30,
   "metadata": {
    "collapsed": true,
    "execution": {
     "iopub.execute_input": "2020-12-10T07:41:49.738033Z",
     "iopub.status.busy": "2020-12-10T07:41:49.731612Z",
     "iopub.status.idle": "2020-12-10T07:41:49.935691Z",
     "shell.execute_reply": "2020-12-10T07:41:49.935113Z"
    },
    "papermill": {
     "duration": 0.271211,
     "end_time": "2020-12-10T07:41:49.935828",
     "exception": false,
     "start_time": "2020-12-10T07:41:49.664617",
     "status": "completed"
    },
    "tags": []
   },
   "outputs": [
    {
     "data": {
      "text/plain": [
       "<matplotlib.axes._subplots.AxesSubplot at 0x7f6b77660ad0>"
      ]
     },
     "execution_count": 30,
     "metadata": {},
     "output_type": "execute_result"
    },
    {
     "data": {
      "image/png": "[encoded data removed]",
      "text/plain": [
       "<Figure size 720x360 with 1 Axes>"
      ]
     },
     "metadata": {
      "needs_background": "light"
     },
     "output_type": "display_data"
    }
   ],
   "source": [
    "plt.figure(figsize=(10,5))\n",
    "sns.boxplot(x='cluster labels', y='OFFENCES AGAINST PERSONS', data=df_crime)"
   ]
  },
  {
   "cell_type": "markdown",
   "metadata": {
    "papermill": {
     "duration": 0.060791,
     "end_time": "2020-12-10T07:41:50.060940",
     "exception": false,
     "start_time": "2020-12-10T07:41:50.000149",
     "status": "completed"
    },
    "tags": []
   },
   "source": [
    "## **Observations**:\n",
    "\n",
    "* The Cities in the Cluster-0 seems to be Safe-Zone where there are relativley less Murders,Assaults and Rapes.\n",
    "* The Cities in Cluster-1 seems to have higher crime rates and can be regarded as Danger-Zone.\n",
    "* The Cities in Cluster-3 seems to have moderate crime rates when compared to other zones and can be called as Moderate-Zone\n",
    "* The Cities in Cluster-2 seems to have little crime rates when compared to other zones and can be called as Fair-Zone\n"
   ]
  },
  {
   "cell_type": "code",
   "execution_count": 31,
   "metadata": {
    "collapsed": true,
    "execution": {
     "iopub.execute_input": "2020-12-10T07:41:50.192115Z",
     "iopub.status.busy": "2020-12-10T07:41:50.191229Z",
     "iopub.status.idle": "2020-12-10T07:41:50.197021Z",
     "shell.execute_reply": "2020-12-10T07:41:50.196317Z"
    },
    "papermill": {
     "duration": 0.075232,
     "end_time": "2020-12-10T07:41:50.197130",
     "exception": false,
     "start_time": "2020-12-10T07:41:50.121898",
     "status": "completed"
    },
    "tags": []
   },
   "outputs": [
    {
     "data": {
      "text/plain": [
       "array(['ABUJA', 'AKWA IBOM', 'ANAMBRA', 'ADAMAWA', 'BAUCHI', 'BENUE',\n",
       "       'BORNO', 'BAYELSA', 'CROSS RIVER', 'EBONYI', 'EDO', 'ENUGU',\n",
       "       'GOMBE', 'EKITI', 'IMO', 'JIGAWA', 'KADUNA', 'KANO', 'KATSINA',\n",
       "       'KEBBI', 'KOGI', 'KWARA', 'NIGER', 'NASARAWA', 'OGUN', 'ONDO',\n",
       "       'OYO', 'OSUN', 'PLATEAU', 'RIVERS', 'SOKOTO', 'TARABA', 'YOBE',\n",
       "       'ZAMFARA', 'RAILWAY'], dtype=object)"
      ]
     },
     "execution_count": 31,
     "metadata": {},
     "output_type": "execute_result"
    }
   ],
   "source": [
    "Safe_Zone= df_crime.groupby('cluster labels')['STATE'].unique()[0]\n",
    "Safe_Zone"
   ]
  },
  {
   "cell_type": "code",
   "execution_count": 32,
   "metadata": {
    "execution": {
     "iopub.execute_input": "2020-12-10T07:41:50.338621Z",
     "iopub.status.busy": "2020-12-10T07:41:50.334662Z",
     "iopub.status.idle": "2020-12-10T07:41:50.343919Z",
     "shell.execute_reply": "2020-12-10T07:41:50.344406Z"
    },
    "papermill": {
     "duration": 0.079852,
     "end_time": "2020-12-10T07:41:50.344560",
     "exception": false,
     "start_time": "2020-12-10T07:41:50.264708",
     "status": "completed"
    },
    "tags": []
   },
   "outputs": [
    {
     "data": {
      "text/plain": [
       "array(['LAGOS'], dtype=object)"
      ]
     },
     "execution_count": 32,
     "metadata": {},
     "output_type": "execute_result"
    }
   ],
   "source": [
    "Danger_Zone= df_crime.groupby('cluster labels')['STATE'].unique()[1]\n",
    "Danger_Zone"
   ]
  },
  {
   "cell_type": "code",
   "execution_count": 33,
   "metadata": {
    "execution": {
     "iopub.execute_input": "2020-12-10T07:41:50.480586Z",
     "iopub.status.busy": "2020-12-10T07:41:50.479573Z",
     "iopub.status.idle": "2020-12-10T07:41:50.484681Z",
     "shell.execute_reply": "2020-12-10T07:41:50.484021Z"
    },
    "papermill": {
     "duration": 0.076523,
     "end_time": "2020-12-10T07:41:50.484803",
     "exception": false,
     "start_time": "2020-12-10T07:41:50.408280",
     "status": "completed"
    },
    "tags": []
   },
   "outputs": [
    {
     "data": {
      "text/plain": [
       "array(['ABIA'], dtype=object)"
      ]
     },
     "execution_count": 33,
     "metadata": {},
     "output_type": "execute_result"
    }
   ],
   "source": [
    "Moderate_Zone= df_crime.groupby('cluster labels')['STATE'].unique()[2]\n",
    "Moderate_Zone"
   ]
  },
  {
   "cell_type": "code",
   "execution_count": 34,
   "metadata": {
    "execution": {
     "iopub.execute_input": "2020-12-10T07:41:50.618118Z",
     "iopub.status.busy": "2020-12-10T07:41:50.617266Z",
     "iopub.status.idle": "2020-12-10T07:41:50.621222Z",
     "shell.execute_reply": "2020-12-10T07:41:50.620587Z"
    },
    "papermill": {
     "duration": 0.075103,
     "end_time": "2020-12-10T07:41:50.621320",
     "exception": false,
     "start_time": "2020-12-10T07:41:50.546217",
     "status": "completed"
    },
    "tags": []
   },
   "outputs": [
    {
     "data": {
      "text/plain": [
       "array(['DELTA'], dtype=object)"
      ]
     },
     "execution_count": 34,
     "metadata": {},
     "output_type": "execute_result"
    }
   ],
   "source": [
    "Fair_Zone= df_crime.groupby('cluster labels')['STATE'].unique()[3]\n",
    "Fair_Zone"
   ]
  },
  {
   "cell_type": "code",
   "execution_count": 35,
   "metadata": {
    "collapsed": true,
    "execution": {
     "iopub.execute_input": "2020-12-10T07:41:50.765539Z",
     "iopub.status.busy": "2020-12-10T07:41:50.764892Z",
     "iopub.status.idle": "2020-12-10T07:41:51.120050Z",
     "shell.execute_reply": "2020-12-10T07:41:51.120687Z"
    },
    "papermill": {
     "duration": 0.436434,
     "end_time": "2020-12-10T07:41:51.120870",
     "exception": false,
     "start_time": "2020-12-10T07:41:50.684436",
     "status": "completed"
    },
    "tags": []
   },
   "outputs": [
    {
     "data": {
      "image/png": "[encoded data removed]",
      "text/plain": [
       "<Figure size 720x360 with 1 Axes>"
      ]
     },
     "metadata": {
      "needs_background": "light"
     },
     "output_type": "display_data"
    }
   ],
   "source": [
    "plt.figure(figsize=(10,5))\n",
    "plt.scatter(data[y_pred==0, 0], data[y_pred==0, 1], s=100, c='red', label ='Safe_Zone')\n",
    "plt.scatter(data[y_pred==1, 0], data[y_pred==1, 1], s=100, c='blue', label ='Danger_Zone')\n",
    "plt.scatter(data[y_pred==3, 0], data[y_pred==3, 1], s=100, c='green', label ='Moderate_Zone')\n",
    "plt.scatter(data[y_pred==2, 0], data[y_pred==2, 1], s=100, c='black', label ='Fair_Zone')\n",
    "plt.legend()\n",
    "plt.show()"
   ]
  },
  {
   "attachments": {
    "thank-you-page-examples.jpg": {
     "image/jpeg": "[encoded data removed]"
    }
   },
   "cell_type": "markdown",
   "metadata": {
    "papermill": {
     "duration": 0.091753,
     "end_time": "2020-12-10T07:41:51.304474",
     "exception": false,
     "start_time": "2020-12-10T07:41:51.212721",
     "status": "completed"
    },
    "tags": []
   },
   "source": [
    "![thank-you-page-examples.jpg](attachment:thank-you-page-examples.jpg)"
   ]
  }
 ],
 "metadata": {
  "kernelspec": {
   "display_name": "Python 3",
   "language": "python",
   "name": "python3"
  },
  "language_info": {
   "codemirror_mode": {
    "name": "ipython",
    "version": 3
   },
   "file_extension": ".py",
   "mimetype": "text/x-python",
   "name": "python",
   "nbconvert_exporter": "python",
   "pygments_lexer": "ipython3",
   "version": "3.7.6"
  },
  "papermill": {
   "duration": 19.119003,
   "end_time": "2020-12-10T07:41:51.509653",
   "environment_variables": {},
   "exception": null,
   "input_path": "__notebook__.ipynb",
   "output_path": "__notebook__.ipynb",
   "parameters": {},
   "start_time": "2020-12-10T07:41:32.390650",
   "version": "2.1.0"
  }
 },
 "nbformat": 4,
 "nbformat_minor": 4
}
